{
 "cells": [
  {
   "cell_type": "code",
   "execution_count": 91,
   "id": "2aa53387-a30a-4e1c-bf89-d4412263a745",
   "metadata": {},
   "outputs": [],
   "source": [
    "import sys, csv\n",
    "from pyspark.sql import SparkSession\n",
    "from pyspark.sql import functions as F\n",
    "from pyspark.sql.functions import datediff, col, abs\n",
    "from pyspark import SparkConf\n",
    "import requests\n",
    "from pyspark.sql.types import StructType, StructField, StringType, IntegerType, DoubleType, DateType\n",
    "from  pyspark.sql.functions import input_file_name, regexp_replace, col, trim"
   ]
  },
  {
   "cell_type": "code",
   "execution_count": 2,
   "id": "d41a0d01-76b4-4094-947c-d0df97a76545",
   "metadata": {},
   "outputs": [],
   "source": [
    "# Use package https://github.com/crealytics/spark-excel\n",
    "spark = SparkSession.builder.master(\"spark://172.20.0.9:7077\") \\\n",
    "    .appName(\"load excel s3 minio\") \\\n",
    "    .config(\"spark.hadoop.fs.s3a.endpoint\", \"http://172.20.0.14:9000\") \\\n",
    "    .config(\"spark.hadoop.fs.s3a.access.key\", \"minio\") \\\n",
    "    .config(\"spark.hadoop.fs.s3a.secret.key\", \"minio123\") \\\n",
    "    .config(\"spark.hadoop.fs.s3a.path.style.access\", True) \\\n",
    "    .config(\"spark.hadoop.fs.s3a.impl\", \"org.apache.hadoop.fs.s3a.S3AFileSystem\") \\\n",
    "    .config(\"fs.s3a.connection.ssl.enabled\", False) \\\n",
    "    .config(\"spark.hadoop.mapreduce.fileoutputcommitter.algorithm.version\", \"2\") \\\n",
    "    .config(\"spark.hadoop.mapreduce.fileoutputcommitter.cleanup-failures.ignored\", \"true\") \\\n",
    "    .config(\"fs.s3a.experimental.input.fadvise\", \"random\") \\\n",
    "    .config(\"spark.speculation\", \"false\") \\\n",
    "    .config(\"spark.hadoop.fs.s3a.aws.credentials.provider\", \"org.apache.hadoop.fs.s3a.SimpleAWSCredentialsProvider\") \\\n",
    "    .config(\"spark.jars.packages\", \"org.apache.hadoop:hadoop-aws:3.2.2,com.amazonaws:aws-java-sdk:1.12.162,com.crealytics:spark-excel_2.12:0.13.5\") \\\n",
    "    .getOrCreate()"
   ]
  },
  {
   "cell_type": "code",
   "execution_count": 3,
   "id": "c59fe362-7665-4e81-a4fa-59ebb8f09725",
   "metadata": {},
   "outputs": [],
   "source": [
    "bucketname = 'data'\n",
    "s3_dest_path = \"s3a://{}/\".format(bucketname)"
   ]
  },
  {
   "cell_type": "code",
   "execution_count": 4,
   "id": "0e492de5-2f94-4ba9-a6bd-0c5b5bf66817",
   "metadata": {},
   "outputs": [],
   "source": [
    "# Create schema for excel file\n",
    "scm_costumer_status = StructType() \\\n",
    "                     .add(\"account number\", DoubleType(), True) \\\n",
    "                     .add(\"name\", StringType(), True) \\\n",
    "                     .add(\"status\", StringType(), True)"
   ]
  },
  {
   "cell_type": "code",
   "execution_count": 7,
   "id": "703d2ee9-ec7e-485f-b542-fdd7e548cbe6",
   "metadata": {},
   "outputs": [],
   "source": [
    "df_costumer_status = spark.read.format(\"com.crealytics.spark.excel\") \\\n",
    "    .option(\"header\", \"true\") \\\n",
    "    .option(\"treatEmptyValuesAsNulls\", \"false\") \\\n",
    "    .option(\"inferSchema\", \"false\") \\\n",
    "    .option(\"dataAddress\", \"'Sheet1'!A1:C17\") \\\n",
    "    .schema(scm_costumer_status) \\\n",
    "    .load('{}/{}'.format(s3_dest_path, 'sample_customer-status.xlsx'))"
   ]
  },
  {
   "cell_type": "code",
   "execution_count": 8,
   "id": "2c00aca8-ddcb-41ff-b30b-ec342aed2063",
   "metadata": {},
   "outputs": [
    {
     "name": "stdout",
     "output_type": "stream",
     "text": [
      "+--------------+--------------------+------+\n",
      "|account number|                name|status|\n",
      "+--------------+--------------------+------+\n",
      "|      740150.0|          Barton LLC|  gold|\n",
      "|      714466.0|     Trantow-Barrows|silver|\n",
      "|      218895.0|           Kulas Inc|bronze|\n",
      "|      307599.0|Kassulke, Ondrick...|bronze|\n",
      "|      412290.0|       Jerde-Hilpert|bronze|\n",
      "|      729833.0|           Koepp Ltd|silver|\n",
      "|      146832.0|        Kiehn-Spinka|silver|\n",
      "|      688981.0|         Keeling LLC|silver|\n",
      "|      786968.0|Frami, Hills and ...|silver|\n",
      "|      239344.0|          Stokes LLC|  gold|\n",
      "|      672390.0|     Kuhn-Gusikowski|silver|\n",
      "|      141962.0|          Herman LLC|  gold|\n",
      "|      424914.0|       White-Trantow|silver|\n",
      "|      527099.0|    Sanford and Sons|bronze|\n",
      "|      642753.0|         Pollich LLC|bronze|\n",
      "|      257198.0|Cronin, Oberbrunn...|  gold|\n",
      "+--------------+--------------------+------+\n",
      "\n"
     ]
    }
   ],
   "source": [
    "df_costumer_status.show()"
   ]
  },
  {
   "cell_type": "code",
   "execution_count": 9,
   "id": "a7600aa2-980c-4d80-9aad-a207f88ba084",
   "metadata": {},
   "outputs": [],
   "source": [
    "df_sales_fab_2014 = spark.read.format(\"com.crealytics.spark.excel\") \\\n",
    "    .option(\"header\", \"true\") \\\n",
    "    .option(\"inferSchema\", \"true\") \\\n",
    "    .option(\"dataAddress\", \"Sheet1\") \\\n",
    "    .option(\"timestampFormat\", \"MM-dd-yyyy HH:mm:ss\") \\\n",
    "    .load('{}/{}'.format(s3_dest_path, 'sample_sales-feb-2014.xlsx'))"
   ]
  },
  {
   "cell_type": "code",
   "execution_count": 10,
   "id": "0fc5dece-322e-47ad-961c-03a64200ef87",
   "metadata": {},
   "outputs": [
    {
     "name": "stdout",
     "output_type": "stream",
     "text": [
      "+--------------+--------------------+--------+--------+----------+---------+-------------------+\n",
      "|account number|                name|     sku|quantity|unit price|ext price|               date|\n",
      "+--------------+--------------------+--------+--------+----------+---------+-------------------+\n",
      "|      383080.0|            Will LLC|B1-20000|     7.0|     33.69|   235.83|2014-02-01 09:04:59|\n",
      "|      412290.0|       Jerde-Hilpert|S1-27722|    11.0|     21.12|   232.32|2014-02-01 11:51:46|\n",
      "|      412290.0|       Jerde-Hilpert|B1-86481|     3.0|     35.99|   107.97|2014-02-01 17:24:32|\n",
      "|      412290.0|       Jerde-Hilpert|B1-20000|    23.0|      78.9|   1814.7|2014-02-01 19:56:48|\n",
      "|      672390.0|     Kuhn-Gusikowski|S1-06532|    48.0|     55.82|  2679.36|2014-02-02 03:45:20|\n",
      "|      383080.0|            Will LLC|S1-82801|    21.0|     13.62|   286.02|2014-02-02 12:45:50|\n",
      "|      714466.0|     Trantow-Barrows|S1-06532|     9.0|     92.55|   832.95|2014-02-02 17:40:58|\n",
      "|      239344.0|          Stokes LLC|S1-47412|    44.0|     78.91|  3472.04|2014-02-02 19:58:26|\n",
      "|      672390.0|     Kuhn-Gusikowski|S1-27722|    36.0|     25.42|   915.12|2014-02-03 01:28:04|\n",
      "|      307599.0|Kassulke, Ondrick...|S1-27722|    32.0|     95.66|  3061.12|2014-02-03 11:27:34|\n",
      "|      642753.0|         Pollich LLC|B1-33087|    23.0|     22.55|   518.65|2014-02-04 03:53:52|\n",
      "|      642753.0|         Pollich LLC|B1-33364|     3.0|      72.3|    216.9|2014-02-04 05:19:52|\n",
      "|      688981.0|         Keeling LLC|B1-20000|    -1.0|     72.18|   -72.18|2014-02-04 07:43:51|\n",
      "|      163416.0|         Purdy-Kunde|B1-05914|    33.0|     16.83|   555.39|2014-02-04 19:29:41|\n",
      "|      257198.0|Cronin, Oberbrunn...|S1-30248|    23.0|     13.42|   308.66|2014-02-04 19:52:57|\n",
      "|      737550.0|Fritsch, Russel a...|S1-47412|    40.0|     51.01|   2040.4|2014-02-05 01:20:40|\n",
      "|      383080.0|            Will LLC|B1-53102|    26.0|     41.88|  1088.88|2014-02-05 06:16:34|\n",
      "|      729833.0|           Koepp Ltd|S1-30248|    14.0|     19.96|   279.44|2014-02-05 16:03:30|\n",
      "|      714466.0|     Trantow-Barrows|B1-86481|    31.0|     62.07|  1924.17|2014-02-05 19:18:37|\n",
      "|      424914.0|       White-Trantow|S1-47412|    43.0|     46.49|  1999.07|2014-02-05 22:45:45|\n",
      "+--------------+--------------------+--------+--------+----------+---------+-------------------+\n",
      "only showing top 20 rows\n",
      "\n"
     ]
    }
   ],
   "source": [
    "df_sales_fab_2014.show()"
   ]
  },
  {
   "cell_type": "code",
   "execution_count": 11,
   "id": "a569fc29-6399-4cd6-aa4b-660fc9bd883d",
   "metadata": {},
   "outputs": [],
   "source": [
    "df_sales_jan_2014 = spark.read.format(\"com.crealytics.spark.excel\") \\\n",
    "    .option(\"header\", \"true\") \\\n",
    "    .option(\"inferSchema\", \"true\") \\\n",
    "    .option(\"dataAddress\", \"Sheet1\") \\\n",
    "    .option(\"timestampFormat\", \"MM-dd-yyyy HH:mm:ss\") \\\n",
    "    .load('{}/{}'.format(s3_dest_path, 'sample_sales-jan-2014.xlsx'))"
   ]
  },
  {
   "cell_type": "code",
   "execution_count": 12,
   "id": "dacb5e22-fc97-4331-bdfe-faed4c61526f",
   "metadata": {},
   "outputs": [
    {
     "name": "stdout",
     "output_type": "stream",
     "text": [
      "+--------------+--------------------+--------+--------+----------+---------+-------------------+\n",
      "|account number|                name|     sku|quantity|unit price|ext price|               date|\n",
      "+--------------+--------------------+--------+--------+----------+---------+-------------------+\n",
      "|      740150.0|          Barton LLC|B1-20000|    39.0|     86.69|  3380.91|2014-01-01 07:21:51|\n",
      "|      714466.0|     Trantow-Barrows|S2-77896|    -1.0|     63.16|   -63.16|2014-01-01 10:00:47|\n",
      "|      218895.0|           Kulas Inc|B1-69924|    23.0|      90.7|   2086.1|2014-01-01 13:24:58|\n",
      "|      307599.0|Kassulke, Ondrick...|S1-65481|    41.0|     21.05|   863.05|2014-01-01 15:05:22|\n",
      "|      412290.0|       Jerde-Hilpert|S2-34077|     6.0|     83.21|   499.26|2014-01-01 23:26:55|\n",
      "|      714466.0|     Trantow-Barrows|S2-77896|    17.0|     87.63|  1489.71|2014-01-02 10:07:15|\n",
      "|      218895.0|           Kulas Inc|B1-65551|     2.0|      31.1|     62.2|2014-01-02 10:57:23|\n",
      "|      729833.0|           Koepp Ltd|S1-30248|     8.0|     33.25|    266.0|2014-01-03 06:32:11|\n",
      "|      714466.0|     Trantow-Barrows|S1-50961|    22.0|     84.09|  1849.98|2014-01-03 11:29:02|\n",
      "|      737550.0|Fritsch, Russel a...|S2-82423|    14.0|     81.92|  1146.88|2014-01-03 19:07:37|\n",
      "|      146832.0|        Kiehn-Spinka|S2-82423|    15.0|     67.74|   1016.1|2014-01-03 19:39:53|\n",
      "|      688981.0|         Keeling LLC|S2-00301|     7.0|     20.26|   141.82|2014-01-04 00:02:36|\n",
      "|      786968.0|Frami, Hills and ...|S2-23246|     6.0|     61.31|   367.86|2014-01-04 06:51:53|\n",
      "|      307599.0|Kassulke, Ondrick...|S2-10342|    17.0|     12.44|   211.48|2014-01-04 07:53:01|\n",
      "|      737550.0|Fritsch, Russel a...|B1-53102|    23.0|     71.56|  1645.88|2014-01-04 08:57:48|\n",
      "|      239344.0|          Stokes LLC|S1-06532|    34.0|     71.51|  2431.34|2014-01-04 11:34:58|\n",
      "|      672390.0|     Kuhn-Gusikowski|S1-30248|    14.0|     72.75|   1018.5|2014-01-04 19:59:02|\n",
      "|      239344.0|          Stokes LLC|B1-50809|    14.0|     16.23|   227.22|2014-01-04 22:14:32|\n",
      "|      141962.0|          Herman LLC|S1-82801|    10.0|      94.3|    943.0|2014-01-05 15:12:16|\n",
      "|      412290.0|       Jerde-Hilpert|S2-00301|    33.0|     31.18|  1028.94|2014-01-05 22:39:21|\n",
      "+--------------+--------------------+--------+--------+----------+---------+-------------------+\n",
      "only showing top 20 rows\n",
      "\n"
     ]
    }
   ],
   "source": [
    "df_sales_jan_2014.show()"
   ]
  },
  {
   "cell_type": "code",
   "execution_count": 15,
   "id": "8c8bbf13-a1ef-4857-a2eb-95ce33e49ff7",
   "metadata": {},
   "outputs": [],
   "source": [
    "df_sales_mar_2014 = spark.read.format(\"com.crealytics.spark.excel\") \\\n",
    "    .option(\"header\", \"true\") \\\n",
    "    .option(\"inferSchema\", \"true\") \\\n",
    "    .option(\"dataAddress\", \"Sheet1\") \\\n",
    "    .option(\"timestampFormat\", \"MM-dd-yyyy HH:mm:ss\") \\\n",
    "    .load('{}/{}'.format(s3_dest_path, 'sample_sales-mar-2014.xlsx'))"
   ]
  },
  {
   "cell_type": "code",
   "execution_count": 16,
   "id": "2ddad26e-98b3-4a62-ac7e-91de161b04a6",
   "metadata": {},
   "outputs": [
    {
     "name": "stdout",
     "output_type": "stream",
     "text": [
      "+--------------+--------------------+--------+--------+----------+---------+-------------------+\n",
      "|account number|                name|     sku|quantity|unit price|ext price|               date|\n",
      "+--------------+--------------------+--------+--------+----------+---------+-------------------+\n",
      "|      163416.0|         Purdy-Kunde|S1-30248|    19.0|     65.03|  1235.57|2014-03-01 16:07:40|\n",
      "|      527099.0|    Sanford and Sons|S2-82423|     3.0|     76.21|   228.63|2014-03-01 17:18:01|\n",
      "|      527099.0|    Sanford and Sons|B1-50809|     8.0|     70.78|   566.24|2014-03-01 18:53:09|\n",
      "|      737550.0|Fritsch, Russel a...|B1-50809|    20.0|     50.11|   1002.2|2014-03-01 23:47:17|\n",
      "|      688981.0|         Keeling LLC|B1-86481|    -1.0|     97.16|   -97.16|2014-03-02 01:46:44|\n",
      "|      729833.0|           Koepp Ltd|S1-82801|    26.0|     50.29|  1307.54|2014-03-02 02:59:26|\n",
      "|      307599.0|Kassulke, Ondrick...|S1-93683|    -1.0|     86.38|   -86.38|2014-03-02 03:29:04|\n",
      "|      412290.0|       Jerde-Hilpert|S2-23246|    27.0|     58.87|  1589.49|2014-03-02 12:10:30|\n",
      "|      307599.0|Kassulke, Ondrick...|S2-34077|    48.0|     53.36|  2561.28|2014-03-02 14:12:28|\n",
      "|      141962.0|          Herman LLC|S2-10342|    49.0|     31.39|  1538.11|2014-03-02 23:08:02|\n",
      "|      257198.0|Cronin, Oberbrunn...|S2-16558|     7.0|     26.21|   183.47|2014-03-03 00:29:24|\n",
      "|      257198.0|Cronin, Oberbrunn...|S2-23246|    40.0|     49.19|   1967.6|2014-03-03 10:17:24|\n",
      "|      688981.0|         Keeling LLC|B1-38851|    25.0|     74.68|   1867.0|2014-03-03 18:18:54|\n",
      "|      239344.0|          Stokes LLC|S1-82801|    41.0|      78.9|   3234.9|2014-03-04 01:06:20|\n",
      "|      218895.0|           Kulas Inc|S2-78676|    38.0|     89.02|  3382.76|2014-03-04 01:17:11|\n",
      "|      642753.0|         Pollich LLC|S2-10342|    40.0|     56.85|   2274.0|2014-03-04 01:49:22|\n",
      "|      737550.0|Fritsch, Russel a...|S2-83881|    12.0|      63.6|    763.2|2014-03-04 15:26:20|\n",
      "|      146832.0|        Kiehn-Spinka|B1-53636|     5.0|     72.16|    360.8|2014-03-04 21:18:04|\n",
      "|      412290.0|       Jerde-Hilpert|S2-77896|    43.0|     76.66|  3296.38|2014-03-04 23:10:28|\n",
      "|      383080.0|            Will LLC|S1-93683|    28.0|     90.86|  2544.08|2014-03-05 05:11:49|\n",
      "+--------------+--------------------+--------+--------+----------+---------+-------------------+\n",
      "only showing top 20 rows\n",
      "\n"
     ]
    }
   ],
   "source": [
    "df_sales_mar_2014.show()"
   ]
  },
  {
   "cell_type": "markdown",
   "id": "1199df32-7dd9-4f68-9cfd-1b1106829fed",
   "metadata": {},
   "source": [
    "# Combining Data"
   ]
  },
  {
   "cell_type": "code",
   "execution_count": 17,
   "id": "e06f7fa2-2ae7-49f3-837c-63150da84241",
   "metadata": {},
   "outputs": [],
   "source": [
    "# Union Sales dataset\n",
    "df_all = df_sales_jan_2014.union(df_sales_fab_2014)\n",
    "df_all = df_all.union(df_sales_mar_2014)"
   ]
  },
  {
   "cell_type": "code",
   "execution_count": 18,
   "id": "3680eb59-e487-4cee-9422-8ff66df551a2",
   "metadata": {},
   "outputs": [
    {
     "name": "stdout",
     "output_type": "stream",
     "text": [
      "384\n"
     ]
    }
   ],
   "source": [
    "print(df_all.count())"
   ]
  },
  {
   "cell_type": "code",
   "execution_count": 120,
   "id": "b02c6526-dd60-4303-a4b6-48143b03014c",
   "metadata": {},
   "outputs": [
    {
     "name": "stdout",
     "output_type": "stream",
     "text": [
      "+--------------+------------+--------+--------+----------+---------+-------------------+--------------+------------+------+\n",
      "|account number|        name|     sku|quantity|unit price|ext price|               date|account number|        name|status|\n",
      "+--------------+------------+--------+--------+----------+---------+-------------------+--------------+------------+------+\n",
      "|      141962.0|  Herman LLC|S1-82801|    10.0|      94.3|    943.0|2014-01-05 15:12:16|      141962.0|  Herman LLC|  gold|\n",
      "|      141962.0|  Herman LLC|B1-53636|     4.0|     18.72|    74.88|2014-01-13 20:50:52|      141962.0|  Herman LLC|  gold|\n",
      "|      141962.0|  Herman LLC|S2-34077|    44.0|     90.23|  3970.12|2014-01-20 07:27:00|      141962.0|  Herman LLC|  gold|\n",
      "|      141962.0|  Herman LLC|B1-05914|    30.0|     80.49|   2414.7|2014-01-27 07:26:02|      141962.0|  Herman LLC|  gold|\n",
      "|      141962.0|  Herman LLC|S2-82423|    40.0|     50.87|   2034.8|2014-01-27 15:18:08|      141962.0|  Herman LLC|  gold|\n",
      "|      141962.0|  Herman LLC|B1-33087|    27.0|     31.42|   848.34|2014-02-09 21:13:27|      141962.0|  Herman LLC|  gold|\n",
      "|      141962.0|  Herman LLC|B1-33364|    44.0|     25.37|  1116.28|2014-02-18 13:55:44|      141962.0|  Herman LLC|  gold|\n",
      "|      141962.0|  Herman LLC|B1-38851|    20.0|     72.88|   1457.6|2014-02-22 16:39:09|      141962.0|  Herman LLC|  gold|\n",
      "|      141962.0|  Herman LLC|B1-69924|    21.0|      95.0|   1995.0|2014-02-26 19:08:02|      141962.0|  Herman LLC|  gold|\n",
      "|      141962.0|  Herman LLC|S2-10342|    49.0|     31.39|  1538.11|2014-03-02 23:08:02|      141962.0|  Herman LLC|  gold|\n",
      "|      146832.0|Kiehn-Spinka|S2-82423|    15.0|     67.74|   1016.1|2014-01-03 19:39:53|      146832.0|Kiehn-Spinka|silver|\n",
      "|      146832.0|Kiehn-Spinka|S2-16558|    22.0|     87.91|  1934.02|2014-01-11 21:48:26|      146832.0|Kiehn-Spinka|silver|\n",
      "|      146832.0|Kiehn-Spinka|S1-93683|    26.0|     52.07|  1353.82|2014-01-18 10:21:51|      146832.0|Kiehn-Spinka|silver|\n",
      "|      146832.0|Kiehn-Spinka|S1-50961|    39.0|     17.72|   691.08|2014-01-18 11:34:38|      146832.0|Kiehn-Spinka|silver|\n",
      "|      146832.0|Kiehn-Spinka|S1-30248|     1.0|     31.17|    31.17|2014-01-18 22:26:11|      146832.0|Kiehn-Spinka|silver|\n",
      "|      146832.0|Kiehn-Spinka|S2-23246|    29.0|     82.52|  2393.08|2014-02-08 17:55:04|      146832.0|Kiehn-Spinka|silver|\n",
      "|      146832.0|Kiehn-Spinka|B1-53102|     6.0|     92.89|   557.34|2014-02-16 03:32:36|      146832.0|Kiehn-Spinka|silver|\n",
      "|      146832.0|Kiehn-Spinka|S1-50961|    11.0|     35.48|   390.28|2014-02-26 02:24:32|      146832.0|Kiehn-Spinka|silver|\n",
      "|      146832.0|Kiehn-Spinka|B1-53636|     5.0|     72.16|    360.8|2014-03-04 21:18:04|      146832.0|Kiehn-Spinka|silver|\n",
      "|      146832.0|Kiehn-Spinka|S1-93683|    17.0|     10.63|   180.71|2014-03-11 12:43:03|      146832.0|Kiehn-Spinka|silver|\n",
      "+--------------+------------+--------+--------+----------+---------+-------------------+--------------+------------+------+\n",
      "only showing top 20 rows\n",
      "\n"
     ]
    }
   ],
   "source": [
    "# copy dataframe to a new \n",
    "df_merged = df_all.alias('df_merged')\n",
    "df_merged = df_merged \\\n",
    "    .join(df_costumer_status.alias(\"df_data\") \\\n",
    "    ,df_merged['account number'] == df_costumer_status['account number'],\"left\")\n",
    "df_merged.show()"
   ]
  },
  {
   "cell_type": "code",
   "execution_count": 121,
   "id": "30c780c0-db55-4a69-8a50-92e055bfe8fa",
   "metadata": {},
   "outputs": [],
   "source": [
    "def rename_duplicate_columns(dataframe):\n",
    "    columns = dataframe.columns\n",
    "    duplicate_column_indices = list(set([columns.index(col) for col in columns if columns.count(col) == 2]))\n",
    "    for index in duplicate_column_indices:\n",
    "        columns[index] = columns[index]+'2'\n",
    "    dataframe = dataframe.toDF(*columns)\n",
    "    return dataframe"
   ]
  },
  {
   "cell_type": "code",
   "execution_count": 125,
   "id": "80be3395-de04-4c63-acc7-06bab7cc6399",
   "metadata": {},
   "outputs": [],
   "source": [
    "def remove_space_columns(dataframe):\n",
    "    dataframe_retorno = dataframe.select([F.col(col).alias(col.replace(' ', '_')) for col in dataframe.columns])\n",
    "    return dataframe_retorno"
   ]
  },
  {
   "cell_type": "code",
   "execution_count": 126,
   "id": "563c2f10-1f53-4119-8a2b-cae008f93343",
   "metadata": {},
   "outputs": [],
   "source": [
    "df_merged = remove_space_columns(rename_duplicate_columns(df_merged))"
   ]
  },
  {
   "cell_type": "code",
   "execution_count": 127,
   "id": "6eab5455-fd19-4416-b5d9-98b33409615a",
   "metadata": {},
   "outputs": [
    {
     "name": "stdout",
     "output_type": "stream",
     "text": [
      "+---------------+------------+--------+--------+----------+---------+-------------------+--------------+------------+------+\n",
      "|account_number2|       name2|     sku|quantity|unit_price|ext_price|               date|account_number|        name|status|\n",
      "+---------------+------------+--------+--------+----------+---------+-------------------+--------------+------------+------+\n",
      "|       141962.0|  Herman LLC|S1-82801|    10.0|      94.3|    943.0|2014-01-05 15:12:16|      141962.0|  Herman LLC|  gold|\n",
      "|       141962.0|  Herman LLC|B1-53636|     4.0|     18.72|    74.88|2014-01-13 20:50:52|      141962.0|  Herman LLC|  gold|\n",
      "|       141962.0|  Herman LLC|S2-34077|    44.0|     90.23|  3970.12|2014-01-20 07:27:00|      141962.0|  Herman LLC|  gold|\n",
      "|       141962.0|  Herman LLC|B1-05914|    30.0|     80.49|   2414.7|2014-01-27 07:26:02|      141962.0|  Herman LLC|  gold|\n",
      "|       141962.0|  Herman LLC|S2-82423|    40.0|     50.87|   2034.8|2014-01-27 15:18:08|      141962.0|  Herman LLC|  gold|\n",
      "|       141962.0|  Herman LLC|B1-33087|    27.0|     31.42|   848.34|2014-02-09 21:13:27|      141962.0|  Herman LLC|  gold|\n",
      "|       141962.0|  Herman LLC|B1-33364|    44.0|     25.37|  1116.28|2014-02-18 13:55:44|      141962.0|  Herman LLC|  gold|\n",
      "|       141962.0|  Herman LLC|B1-38851|    20.0|     72.88|   1457.6|2014-02-22 16:39:09|      141962.0|  Herman LLC|  gold|\n",
      "|       141962.0|  Herman LLC|B1-69924|    21.0|      95.0|   1995.0|2014-02-26 19:08:02|      141962.0|  Herman LLC|  gold|\n",
      "|       141962.0|  Herman LLC|S2-10342|    49.0|     31.39|  1538.11|2014-03-02 23:08:02|      141962.0|  Herman LLC|  gold|\n",
      "|       146832.0|Kiehn-Spinka|S2-82423|    15.0|     67.74|   1016.1|2014-01-03 19:39:53|      146832.0|Kiehn-Spinka|silver|\n",
      "|       146832.0|Kiehn-Spinka|S2-16558|    22.0|     87.91|  1934.02|2014-01-11 21:48:26|      146832.0|Kiehn-Spinka|silver|\n",
      "|       146832.0|Kiehn-Spinka|S1-93683|    26.0|     52.07|  1353.82|2014-01-18 10:21:51|      146832.0|Kiehn-Spinka|silver|\n",
      "|       146832.0|Kiehn-Spinka|S1-50961|    39.0|     17.72|   691.08|2014-01-18 11:34:38|      146832.0|Kiehn-Spinka|silver|\n",
      "|       146832.0|Kiehn-Spinka|S1-30248|     1.0|     31.17|    31.17|2014-01-18 22:26:11|      146832.0|Kiehn-Spinka|silver|\n",
      "|       146832.0|Kiehn-Spinka|S2-23246|    29.0|     82.52|  2393.08|2014-02-08 17:55:04|      146832.0|Kiehn-Spinka|silver|\n",
      "|       146832.0|Kiehn-Spinka|B1-53102|     6.0|     92.89|   557.34|2014-02-16 03:32:36|      146832.0|Kiehn-Spinka|silver|\n",
      "|       146832.0|Kiehn-Spinka|S1-50961|    11.0|     35.48|   390.28|2014-02-26 02:24:32|      146832.0|Kiehn-Spinka|silver|\n",
      "|       146832.0|Kiehn-Spinka|B1-53636|     5.0|     72.16|    360.8|2014-03-04 21:18:04|      146832.0|Kiehn-Spinka|silver|\n",
      "|       146832.0|Kiehn-Spinka|S1-93683|    17.0|     10.63|   180.71|2014-03-11 12:43:03|      146832.0|Kiehn-Spinka|silver|\n",
      "+---------------+------------+--------+--------+----------+---------+-------------------+--------------+------------+------+\n",
      "only showing top 20 rows\n",
      "\n"
     ]
    }
   ],
   "source": [
    "df_merged.show()"
   ]
  },
  {
   "cell_type": "code",
   "execution_count": 128,
   "id": "a14be4e5-dedc-4dcf-828f-b8b393396604",
   "metadata": {},
   "outputs": [],
   "source": [
    "# Register as a table\n",
    "df_merged.createOrReplaceTempView(\"df_merged\")"
   ]
  },
  {
   "cell_type": "code",
   "execution_count": 129,
   "id": "0fb402ed-8f71-4b93-a8e6-88efc69b1c8b",
   "metadata": {},
   "outputs": [
    {
     "name": "stdout",
     "output_type": "stream",
     "text": [
      "384\n"
     ]
    }
   ],
   "source": [
    "print(df_merged.count())"
   ]
  },
  {
   "cell_type": "markdown",
   "id": "0b2fbad3-f4f9-4e12-8ea7-d2658b1fdca5",
   "metadata": {},
   "source": [
    "# Querying Data"
   ]
  },
  {
   "cell_type": "code",
   "execution_count": 130,
   "id": "2e52a845-8a70-4e33-9bf4-695a2c593e60",
   "metadata": {},
   "outputs": [],
   "source": [
    "top_100 = spark.sql(\"\"\"\n",
    "    SELECT m.name, unit_price\n",
    "    FROM df_merged m\n",
    "    LIMIT 100\n",
    "\"\"\")\n",
    "top_100.write.parquet('{}/{}'.format(s3_dest_path, 'sample_customer'), mode='overwrite')"
   ]
  },
  {
   "cell_type": "code",
   "execution_count": 131,
   "id": "fd99c88e-ab0b-4bf5-b8d7-954baaf756ad",
   "metadata": {},
   "outputs": [
    {
     "name": "stdout",
     "output_type": "stream",
     "text": [
      "+------------+----------+\n",
      "|        name|unit_price|\n",
      "+------------+----------+\n",
      "|  Herman LLC|      94.3|\n",
      "|  Herman LLC|     18.72|\n",
      "|  Herman LLC|     48.85|\n",
      "|  Herman LLC|      12.1|\n",
      "|  Herman LLC|     13.34|\n",
      "|  Herman LLC|     90.23|\n",
      "|  Herman LLC|     80.49|\n",
      "|  Herman LLC|     50.87|\n",
      "|  Herman LLC|     46.02|\n",
      "|  Herman LLC|     31.42|\n",
      "|  Herman LLC|     25.37|\n",
      "|  Herman LLC|     72.88|\n",
      "|  Herman LLC|      95.0|\n",
      "|  Herman LLC|     31.39|\n",
      "|  Herman LLC|     36.67|\n",
      "|  Herman LLC|     83.61|\n",
      "|Kiehn-Spinka|     67.74|\n",
      "|Kiehn-Spinka|     87.91|\n",
      "|Kiehn-Spinka|     52.07|\n",
      "|Kiehn-Spinka|     17.72|\n",
      "+------------+----------+\n",
      "only showing top 20 rows\n",
      "\n"
     ]
    }
   ],
   "source": [
    "spark.read.format(\"parquet\").load('{}/{}'.format(s3_dest_path, 'sample_customer')).show()"
   ]
  },
  {
   "cell_type": "code",
   "execution_count": 132,
   "id": "578163c3-1fd4-42f2-baed-fbd235452c07",
   "metadata": {},
   "outputs": [],
   "source": [
    "spark.stop()"
   ]
  },
  {
   "cell_type": "code",
   "execution_count": null,
   "id": "439d6093-8676-4376-8825-8eed2f4afd70",
   "metadata": {},
   "outputs": [],
   "source": []
  }
 ],
 "metadata": {
  "kernelspec": {
   "display_name": "Python 3 (ipykernel)",
   "language": "python",
   "name": "python3"
  },
  "language_info": {
   "codemirror_mode": {
    "name": "ipython",
    "version": 3
   },
   "file_extension": ".py",
   "mimetype": "text/x-python",
   "name": "python",
   "nbconvert_exporter": "python",
   "pygments_lexer": "ipython3",
   "version": "3.9.7"
  }
 },
 "nbformat": 4,
 "nbformat_minor": 5
}
