{
 "cells": [
  {
   "cell_type": "code",
   "execution_count": 1,
   "id": "be05b4c8-7da5-489a-95a2-cb6c9862956a",
   "metadata": {},
   "outputs": [],
   "source": [
    "from pyspark.sql import SparkSession\n",
    "from pyspark.sql import Row"
   ]
  },
  {
   "cell_type": "code",
   "execution_count": 2,
   "id": "2275e859-4727-4970-9a76-9a625c466f6f",
   "metadata": {},
   "outputs": [],
   "source": [
    "spark = SparkSession.builder.master(\"spark://172.20.0.9:7077\") \\\n",
    "    .appName(\"Spark minIO Test\") \\\n",
    "    .config(\"spark.hadoop.fs.s3a.endpoint\", \"http://172.20.0.14:9000\") \\\n",
    "    .config(\"spark.hadoop.fs.s3a.access.key\", \"minio\") \\\n",
    "    .config(\"spark.hadoop.fs.s3a.secret.key\", \"minio123\") \\\n",
    "    .config(\"spark.hadoop.fs.s3a.path.style.access\", True) \\\n",
    "    .config(\"spark.hadoop.fs.s3a.impl\", \"org.apache.hadoop.fs.s3a.S3AFileSystem\") \\\n",
    "    .config(\"fs.s3a.connection.ssl.enabled\", False) \\\n",
    "    .config(\"spark.hadoop.mapreduce.fileoutputcommitter.algorithm.version\", \"2\") \\\n",
    "    .config(\"spark.hadoop.mapreduce.fileoutputcommitter.cleanup-failures.ignored\", \"true\") \\\n",
    "    .config(\"fs.s3a.experimental.input.fadvise\", \"random\") \\\n",
    "    .config(\"spark.speculation\", \"false\") \\\n",
    "    .config(\"spark.hadoop.fs.s3a.aws.credentials.provider\", \"org.apache.hadoop.fs.s3a.SimpleAWSCredentialsProvider\") \\\n",
    "    .config(\"spark.jars.packages\", \"org.apache.hadoop:hadoop-aws:3.2.2,com.amazonaws:aws-java-sdk:1.12.162\") \\\n",
    "    .getOrCreate()\n",
    "\n",
    "# Login methods    \n",
    "#.config(\"spark.hadoop.fs.s3a.aws.credentials.provider\", \"org.apache.hadoop.fs.s3a.SimpleAWSCredentialsProvider\")\n",
    "#.config(\"spark.hadoop.fs.s3a.aws.credentials.provider\",\"com.amazonaws.auth.IAMInstanceCredentialsProvider\") \\    \n",
    "#.config(\"spark.hadoop.fs.s3a.aws.credentials.provider\",\"com.amazonaws.auth.InstanceProfileCredentialsProvider\") \\\n"
   ]
  },
  {
   "cell_type": "code",
   "execution_count": 3,
   "id": "31d6b4ae-2326-4e9b-9dd7-b18db35aa229",
   "metadata": {},
   "outputs": [],
   "source": [
    "bucketname = 'data'"
   ]
  },
  {
   "cell_type": "code",
   "execution_count": 4,
   "id": "6222e497-635d-411d-a733-579c9dc477de",
   "metadata": {},
   "outputs": [],
   "source": [
    "# Create new data\n",
    "Employee = Row(\"id\", \"name\", \"age\", \"salary\")\n",
    "employee1 = Employee(1, \"Ranga\", 32, 245000.30)\n",
    "employee2 = Employee(2, \"Nishanth\", 2, 345000.10)\n",
    "employee3 = Employee(3, \"Raja\", 32, 245000.86)\n",
    "employee4 = Employee(4, \"Mani\", 14, 45000.00)"
   ]
  },
  {
   "cell_type": "code",
   "execution_count": 5,
   "id": "1d6165a3-af7c-4d34-bd37-e5b2e0a1d2b9",
   "metadata": {},
   "outputs": [],
   "source": [
    "employeeData = [employee1, employee2, employee3, employee4]\n",
    "employeeDF = spark.createDataFrame(employeeData)"
   ]
  },
  {
   "cell_type": "code",
   "execution_count": 6,
   "id": "2006bc94-1260-4173-92b0-45e195fd0f7a",
   "metadata": {},
   "outputs": [
    {
     "name": "stdout",
     "output_type": "stream",
     "text": [
      "+---+--------+---+---------+\n",
      "| id|    name|age|   salary|\n",
      "+---+--------+---+---------+\n",
      "|  1|   Ranga| 32| 245000.3|\n",
      "|  2|Nishanth|  2| 345000.1|\n",
      "|  3|    Raja| 32|245000.86|\n",
      "|  4|    Mani| 14|  45000.0|\n",
      "+---+--------+---+---------+\n",
      "\n"
     ]
    }
   ],
   "source": [
    "#employeeDF.printSchema()\n",
    "employeeDF.show()"
   ]
  },
  {
   "cell_type": "code",
   "execution_count": 7,
   "id": "cfea739a-671c-4ec9-8198-0079a4b9dcdc",
   "metadata": {},
   "outputs": [
    {
     "name": "stdout",
     "output_type": "stream",
     "text": [
      "s3 destination path s3a://data/employees\n"
     ]
    }
   ],
   "source": [
    "# Define the s3 destination path\n",
    "s3_dest_path = \"s3a://{}/employees\".format(bucketname)\n",
    "print(\"s3 destination path \"+s3_dest_path)"
   ]
  },
  {
   "cell_type": "code",
   "execution_count": 12,
   "id": "c7ce8237-86c3-4368-985f-26215ccdf38e",
   "metadata": {},
   "outputs": [],
   "source": [
    "employeePath_orc = s3_dest_path + \"/employee_orc\"\n",
    "employeePath_parquet = s3_dest_path + \"/employee_parquet\""
   ]
  },
  {
   "cell_type": "code",
   "execution_count": 9,
   "id": "01c631eb-2e05-4c61-afa1-b341bc18e4a0",
   "metadata": {},
   "outputs": [],
   "source": [
    "# Write the data as Parquet format\n",
    "employeeDF.write.parquet(employeePath_parquet, mode='overwrite')"
   ]
  },
  {
   "cell_type": "code",
   "execution_count": 11,
   "id": "f80537fd-633e-4008-96eb-e7e50cfd8186",
   "metadata": {},
   "outputs": [],
   "source": [
    "# Write the data as ORC format\n",
    "employeeDF.write.orc(employeePath_orc, mode='overwrite')"
   ]
  },
  {
   "cell_type": "code",
   "execution_count": 13,
   "id": "bd4ff72c-4d2b-404e-9d5b-0fb5879fa1f3",
   "metadata": {},
   "outputs": [
    {
     "name": "stdout",
     "output_type": "stream",
     "text": [
      "+---+--------+---+---------+\n",
      "| id|    name|age|   salary|\n",
      "+---+--------+---+---------+\n",
      "|  1|   Ranga| 32| 245000.3|\n",
      "|  2|Nishanth|  2| 345000.1|\n",
      "|  4|    Mani| 14|  45000.0|\n",
      "|  3|    Raja| 32|245000.86|\n",
      "+---+--------+---+---------+\n",
      "\n"
     ]
    }
   ],
   "source": [
    "# Read the employee orc data\n",
    "employeeOrcData = spark.read.format(\"orc\").load(employeePath_orc)\n",
    "#employeeOrcData.printSchema()\n",
    "employeeOrcData.show()"
   ]
  },
  {
   "cell_type": "code",
   "execution_count": 14,
   "id": "acadd9fc-ab2b-4098-a1e5-aaf69f9c4929",
   "metadata": {},
   "outputs": [],
   "source": [
    "spark.stop()"
   ]
  },
  {
   "cell_type": "code",
   "execution_count": null,
   "id": "c37521d4-0319-444a-aae9-c58ab35a6543",
   "metadata": {},
   "outputs": [],
   "source": []
  }
 ],
 "metadata": {
  "kernelspec": {
   "display_name": "Python 3 (ipykernel)",
   "language": "python",
   "name": "python3"
  },
  "language_info": {
   "codemirror_mode": {
    "name": "ipython",
    "version": 3
   },
   "file_extension": ".py",
   "mimetype": "text/x-python",
   "name": "python",
   "nbconvert_exporter": "python",
   "pygments_lexer": "ipython3",
   "version": "3.9.7"
  }
 },
 "nbformat": 4,
 "nbformat_minor": 5
}
