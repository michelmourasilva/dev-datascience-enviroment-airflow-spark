{
 "cells": [
  {
   "cell_type": "code",
   "execution_count": 1,
   "id": "ac8df7dc-4557-4f81-82c2-e34a333104d5",
   "metadata": {},
   "outputs": [],
   "source": [
    "import sys, csv\n",
    "from pyspark.sql import SparkSession\n",
    "from pyspark.sql import functions as F\n",
    "from pyspark.sql.functions import datediff, col, abs\n",
    "from pyspark import SparkConf"
   ]
  },
  {
   "cell_type": "code",
   "execution_count": 2,
   "id": "b1645846-b3c0-4414-b390-3d01b7d2ed1b",
   "metadata": {},
   "outputs": [],
   "source": [
    "# change ip for spark cluster\n",
    "spark = SparkSession.builder.master(\"spark://172.20.0.9:7077\") \\\n",
    ".appName(\"extract_and_load\") \\\n",
    ".config(\"spark.cassandra.connection.host\", \"172.20.0.11\") \\\n",
    ".config(\"spark.cassandra.connection.port\", \"9042\") \\\n",
    ".config(\"spark.cassandra.auth.username\", \"cassandra\") \\\n",
    ".config(\"spark.cassandra.auth.password\", \"cassandra\") \\\n",
    ".config(\"spark.jars.packages\", \"com.datastax.spark:spark-cassandra-connector_2.12:3.1.0\") \\\n",
    ".getOrCreate()\n",
    "\n",
    "#.config(\"spark.cassandra.output.ifNotExists\", \"true\") \\\n",
    "#.config(\"spark.jars\", \"/opt/bitnami/spark/jars/spark-cassandra-connector-2.4.0-s_2.11.jar\") \\\n",
    "#.config(\"spark.jars.packages\", \"com.datastax.spark:spark-cassandra-connector_2.12:3.1.0\") \\\n",
    "#.config(\"spark.jars.packages\",\"com.datastax.spark:spark-cassandra-connector_2.12:3.2.0-beta,com.datastax.cassandra:cassandra-driver-core:3.11 spark-cassandra-connector-assembly-1.1.1-SNAPSHOT.jar\")\n"
   ]
  },
  {
   "cell_type": "code",
   "execution_count": 3,
   "id": "c63aec31-58a8-458a-9dac-17c9bc2e2615",
   "metadata": {},
   "outputs": [],
   "source": [
    "def load_and_get_table_df(keys_space_name, table_name):\n",
    "    table_df = spark.read\\\n",
    "        .format(\"org.apache.spark.sql.cassandra\")\\\n",
    "        .options(table=table_name, keyspace=keys_space_name)\\\n",
    "        .load()\n",
    "    return table_df"
   ]
  },
  {
   "cell_type": "markdown",
   "id": "802ba9b1-2f80-444e-9ee4-2404273f87c5",
   "metadata": {},
   "source": [
    "#### Write dataframe in cassandra"
   ]
  },
  {
   "cell_type": "code",
   "execution_count": 4,
   "id": "3c7ce206-2202-46db-ad67-a3955a1b5c17",
   "metadata": {},
   "outputs": [],
   "source": [
    "csv_df = spark.read.format(\"csv\").option(\"header\", \"true\").load(\"/usr/local/spark/data/previous_employees_by_job_title.txt\")"
   ]
  },
  {
   "cell_type": "code",
   "execution_count": 5,
   "id": "c4f7e762-42d7-453a-9461-1f5b9f84c8cd",
   "metadata": {},
   "outputs": [],
   "source": [
    "write_df = csv_df.select(\"job_title\", \"employee_id\", \"employee_name\", \"first_day\", \"last_day\")"
   ]
  },
  {
   "cell_type": "code",
   "execution_count": 6,
   "id": "4fafd23a-6fd7-4f15-a72b-f5f1c9217908",
   "metadata": {},
   "outputs": [],
   "source": [
    "write_df.write\\\n",
    "    .format(\"org.apache.spark.sql.cassandra\")\\\n",
    "    .mode('append')\\\n",
    "    .options(table=\"previous_employees_by_job_title\", keyspace='test')\\\n",
    "    .save()"
   ]
  },
  {
   "cell_type": "markdown",
   "id": "0cabcfb5-594f-4712-aa68-808f9905b5bc",
   "metadata": {},
   "source": [
    "#### Consume cassandra to process and import"
   ]
  },
  {
   "cell_type": "code",
   "execution_count": 7,
   "id": "c32320db-1d4d-4745-896a-c8de66193872",
   "metadata": {},
   "outputs": [
    {
     "name": "stdout",
     "output_type": "stream",
     "text": [
      "+-----------+--------------------+---------------+-------------------+-------------------+\n",
      "|  job_title|         employee_id|  employee_name|          first_day|           last_day|\n",
      "+-----------+--------------------+---------------+-------------------+-------------------+\n",
      "|Audiologist|003f0fba-e91f-4d8...|   David Holmes|2020-10-25 14:13:41|2017-06-27 12:53:05|\n",
      "|Audiologist|0053b81d-d54d-485...|   Ember Carter|2000-11-12 15:19:13|2009-12-08 22:18:37|\n",
      "|Audiologist|0064f13e-f2b4-4e0...|    Kieth Evans|2006-05-12 19:42:58|2002-08-15 20:36:58|\n",
      "|Audiologist|0085d6e9-f34a-442...|  Deborah Boyle|2014-11-18 02:25:32|2017-06-19 09:07:47|\n",
      "|Audiologist|008af4a2-51c7-466...| Sebastian Lunt|2003-11-14 06:48:28|2000-06-11 04:56:36|\n",
      "|Audiologist|009c9b1f-b02d-43e...|  Vanessa Allen|2007-01-22 15:30:56|2011-03-09 15:24:39|\n",
      "|Audiologist|00ac5ab1-d111-450...|Phillip Clayton|2000-12-17 02:38:48|2003-05-25 18:18:33|\n",
      "|Audiologist|00e58f28-3295-4e9...| Rhea Partridge|2010-01-08 17:51:55|2019-11-05 16:06:52|\n",
      "|Audiologist|00fe8832-54b0-445...|     Liam Brown|2012-09-26 08:42:03|2011-12-09 05:18:39|\n",
      "|Audiologist|01010970-3adb-4be...|   Monica Glass|2007-07-25 08:11:50|2005-02-18 06:30:54|\n",
      "|Audiologist|0102d14d-226d-4b2...| Sabina Ventura|2005-09-01 21:49:54|2014-09-08 11:45:53|\n",
      "|Audiologist|0103df49-7a5a-4bf...|  Amelia Coates|2006-04-07 16:24:42|2018-02-05 12:38:14|\n",
      "|Audiologist|01043c6b-fb99-445...|     Bryon Lane|2001-07-18 18:21:54|2004-01-15 21:25:03|\n",
      "|Audiologist|013bba7f-1756-476...|  Leroy Jennson|2004-02-16 17:31:46|2008-01-28 12:25:04|\n",
      "|Audiologist|01bfb761-e811-401...|Nathan Whitmore|2007-08-27 10:49:58|2004-09-03 12:04:44|\n",
      "|Audiologist|01d6caa9-bcc5-40b...|   Alan Redwood|2010-03-09 09:30:42|2019-01-28 15:44:30|\n",
      "|Audiologist|0231c390-ce43-4fc...|    Owen Morgan|2010-04-03 15:13:55|2018-03-08 11:17:46|\n",
      "|Audiologist|02686e72-0718-407...|      Mya Moran|2014-04-22 10:52:07|2012-10-05 08:54:32|\n",
      "|Audiologist|026e66ee-4ff0-41b...|    Mary Irving|2008-07-06 07:08:16|2012-06-13 01:09:51|\n",
      "|Audiologist|02acf734-a1fa-482...|     Hanna Fall|2013-05-21 20:46:08|2006-05-20 19:35:56|\n",
      "+-----------+--------------------+---------------+-------------------+-------------------+\n",
      "only showing top 20 rows\n",
      "\n"
     ]
    }
   ],
   "source": [
    "load_and_get_table_df(\"test\", \"previous_employees_by_job_title\").show()"
   ]
  },
  {
   "cell_type": "code",
   "execution_count": 8,
   "id": "8f50b1bb-41dd-4f48-b701-524fb3c03160",
   "metadata": {},
   "outputs": [
    {
     "data": {
      "text/plain": [
       "DataFrame[]"
      ]
     },
     "execution_count": 8,
     "metadata": {},
     "output_type": "execute_result"
    }
   ],
   "source": [
    "# configure database catalog\n",
    "spark.conf.set(f\"spark.sql.catalog.cassandra\", \"com.datastax.spark.connector.datasource.CassandraCatalog\")\n",
    "spark.sql(\"use cassandra.test\")"
   ]
  },
  {
   "cell_type": "code",
   "execution_count": 9,
   "id": "87971e30-e533-462c-a27f-f18fd5ce25ec",
   "metadata": {},
   "outputs": [],
   "source": [
    "calcDF = spark.sql(\"select job_title, employee_id, employee_name, abs(datediff(last_day, first_day)) as days_worked from previous_employees_by_job_title\")"
   ]
  },
  {
   "cell_type": "code",
   "execution_count": 10,
   "id": "4dc754a8-e86c-43d1-9f11-18915122e596",
   "metadata": {},
   "outputs": [
    {
     "name": "stdout",
     "output_type": "stream",
     "text": [
      "+-----------+--------------------+---------------+-----------+\n",
      "|  job_title|         employee_id|  employee_name|days_worked|\n",
      "+-----------+--------------------+---------------+-----------+\n",
      "|Audiologist|003f0fba-e91f-4d8...|   David Holmes|       1216|\n",
      "|Audiologist|0053b81d-d54d-485...|   Ember Carter|       3313|\n",
      "|Audiologist|0064f13e-f2b4-4e0...|    Kieth Evans|       1366|\n",
      "|Audiologist|0085d6e9-f34a-442...|  Deborah Boyle|        944|\n",
      "|Audiologist|008af4a2-51c7-466...| Sebastian Lunt|       1251|\n",
      "|Audiologist|009c9b1f-b02d-43e...|  Vanessa Allen|       1507|\n",
      "|Audiologist|00ac5ab1-d111-450...|Phillip Clayton|        889|\n",
      "|Audiologist|00e58f28-3295-4e9...| Rhea Partridge|       3588|\n",
      "|Audiologist|00fe8832-54b0-445...|     Liam Brown|        292|\n",
      "|Audiologist|01010970-3adb-4be...|   Monica Glass|        887|\n",
      "|Audiologist|0102d14d-226d-4b2...| Sabina Ventura|       3294|\n",
      "|Audiologist|0103df49-7a5a-4bf...|  Amelia Coates|       4322|\n",
      "|Audiologist|01043c6b-fb99-445...|     Bryon Lane|        911|\n",
      "|Audiologist|013bba7f-1756-476...|  Leroy Jennson|       1442|\n",
      "|Audiologist|01bfb761-e811-401...|Nathan Whitmore|       1088|\n",
      "|Audiologist|01d6caa9-bcc5-40b...|   Alan Redwood|       3247|\n",
      "|Audiologist|0231c390-ce43-4fc...|    Owen Morgan|       2896|\n",
      "|Audiologist|02686e72-0718-407...|      Mya Moran|        564|\n",
      "|Audiologist|026e66ee-4ff0-41b...|    Mary Irving|       1438|\n",
      "|Audiologist|02acf734-a1fa-482...|     Hanna Fall|       2558|\n",
      "+-----------+--------------------+---------------+-----------+\n",
      "only showing top 20 rows\n",
      "\n"
     ]
    }
   ],
   "source": [
    "calcDF.show()"
   ]
  },
  {
   "cell_type": "code",
   "execution_count": 11,
   "id": "8de1bb70-10a3-41b5-9368-09b11394f83d",
   "metadata": {},
   "outputs": [],
   "source": [
    "calcDF.write\\\n",
    "    .format(\"org.apache.spark.sql.cassandra\")\\\n",
    "    .mode('append')\\\n",
    "    .options(table=\"days_worked_by_previous_employees_by_job_title\", keyspace='test')\\\n",
    "    .save()"
   ]
  },
  {
   "cell_type": "code",
   "execution_count": 12,
   "id": "8eb20238-46b1-4234-890c-86671c8a1201",
   "metadata": {},
   "outputs": [],
   "source": [
    "spark.stop()"
   ]
  }
 ],
 "metadata": {
  "kernelspec": {
   "display_name": "Python 3 (ipykernel)",
   "language": "python",
   "name": "python3"
  }
 },
 "nbformat": 4,
 "nbformat_minor": 5
}
