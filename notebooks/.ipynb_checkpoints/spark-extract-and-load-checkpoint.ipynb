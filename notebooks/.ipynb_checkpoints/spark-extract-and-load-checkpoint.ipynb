{
 "cells": [
  {
   "cell_type": "code",
   "execution_count": 1,
   "id": "ac8df7dc-4557-4f81-82c2-e34a333104d5",
   "metadata": {},
   "outputs": [],
   "source": [
    "import sys, csv\n",
    "from pyspark.sql import SparkSession\n",
    "from pyspark.sql import functions as F\n",
    "from pyspark.sql.functions import datediff, col, abs\n",
    "from pyspark import SparkConf"
   ]
  },
  {
   "cell_type": "markdown",
   "id": "d22c2317-d9f7-4f4c-bb57-76536e903f72",
   "metadata": {
    "tags": []
   },
   "source": [
    "### Dependency - create keyspace and tables in cassandra\n",
    "\n",
    "> create keyspace test with replication = {'class': 'SimpleStrategy', 'replication_factor': 1};\n",
    "\n",
    "\n",
    "> CREATE TABLE test.previous_employees_by_job_title (\n",
    "    job_title text,\n",
    "    employee_id uuid,\n",
    "    employee_name text,\n",
    "    first_day timestamp,\n",
    "    last_day timestamp,\n",
    "    PRIMARY KEY (job_title, employee_id)\n",
    ") WITH CLUSTERING ORDER BY (employee_id ASC);\n",
    "\n",
    "> CREATE TABLE test.days_worked_by_previous_employees_by_job_title (\n",
    "    job_title text,\n",
    "    employee_id uuid,\n",
    "    employee_name text,\n",
    "    days_worked int,\n",
    "    PRIMARY KEY (job_title, employee_id)\n",
    ") WITH CLUSTERING ORDER BY (employee_id ASC);"
   ]
  },
  {
   "cell_type": "code",
   "execution_count": 3,
   "id": "b1645846-b3c0-4414-b390-3d01b7d2ed1b",
   "metadata": {},
   "outputs": [],
   "source": [
    "# change ip for spark cluster\n",
    "spark = SparkSession.builder.master(\"spark://192.168.208.7:7077\") \\\n",
    ".appName(\"extract_and_load\") \\\n",
    ".config(\"spark.cassandra.connection.host\", \"192.168.208.2\") \\\n",
    ".config(\"spark.cassandra.connection.port\", \"9042\") \\\n",
    ".config(\"spark.cassandra.auth.username\", \"cassandra\") \\\n",
    ".config(\"spark.cassandra.auth.password\", \"cassandra\") \\\n",
    ".config(\"spark.jars.packages\", \"com.datastax.spark:spark-cassandra-connector_2.12:3.1.0\") \\\n",
    ".getOrCreate()\n",
    "\n",
    "#.config(\"spark.jars\", \"/opt/bitnami/spark/jars/spark-cassandra-connector-2.4.0-s_2.11.jar\") \\\n",
    "#.config(\"spark.jars.packages\", \"com.datastax.spark:spark-cassandra-connector_2.12:3.1.0\") \\\n",
    "#.config(\"spark.jars.packages\",\"com.datastax.spark:spark-cassandra-connector_2.12:3.2.0-beta,com.datastax.cassandra:cassandra-driver-core:3.11 spark-cassandra-connector-assembly-1.1.1-SNAPSHOT.jar\")\n"
   ]
  },
  {
   "cell_type": "code",
   "execution_count": 4,
   "id": "c63aec31-58a8-458a-9dac-17c9bc2e2615",
   "metadata": {},
   "outputs": [],
   "source": [
    "def load_and_get_table_df(keys_space_name, table_name):\n",
    "    table_df = spark.read\\\n",
    "        .format(\"org.apache.spark.sql.cassandra\")\\\n",
    "        .options(table=table_name, keyspace=keys_space_name)\\\n",
    "        .load()\n",
    "    return table_df"
   ]
  },
  {
   "cell_type": "markdown",
   "id": "802ba9b1-2f80-444e-9ee4-2404273f87c5",
   "metadata": {},
   "source": [
    "#### Write dataframe in cassandra"
   ]
  },
  {
   "cell_type": "code",
   "execution_count": 8,
   "id": "3c7ce206-2202-46db-ad67-a3955a1b5c17",
   "metadata": {},
   "outputs": [],
   "source": [
    "csv_df = spark.read.format(\"csv\").option(\"header\", \"true\").load(\"/usr/local/spark/data/previous_employees_by_job_title.txt\")"
   ]
  },
  {
   "cell_type": "code",
   "execution_count": 9,
   "id": "c4f7e762-42d7-453a-9461-1f5b9f84c8cd",
   "metadata": {},
   "outputs": [],
   "source": [
    "write_df = csv_df.select(\"job_title\", \"employee_id\", \"employee_name\", \"first_day\", \"last_day\")"
   ]
  },
  {
   "cell_type": "code",
   "execution_count": 10,
   "id": "4fafd23a-6fd7-4f15-a72b-f5f1c9217908",
   "metadata": {},
   "outputs": [],
   "source": [
    "write_df.write\\\n",
    "    .format(\"org.apache.spark.sql.cassandra\")\\\n",
    "    .mode('append')\\\n",
    "    .options(table=\"previous_employees_by_job_title\", keyspace='test')\\\n",
    "    .save()"
   ]
  },
  {
   "cell_type": "markdown",
   "id": "0cabcfb5-594f-4712-aa68-808f9905b5bc",
   "metadata": {},
   "source": [
    "#### Consume cassandra to process and import"
   ]
  },
  {
   "cell_type": "code",
   "execution_count": 5,
   "id": "c32320db-1d4d-4745-896a-c8de66193872",
   "metadata": {},
   "outputs": [
    {
     "name": "stdout",
     "output_type": "stream",
     "text": [
      "+-----------------+--------------------+----------------+-------------------+-------------------+\n",
      "|        job_title|         employee_id|   employee_name|          first_day|           last_day|\n",
      "+-----------------+--------------------+----------------+-------------------+-------------------+\n",
      "|Food Technologist|0004db76-10fe-447...|Benjamin Hancock|2001-12-08 14:22:43|2007-03-23 06:57:42|\n",
      "|Food Technologist|0050ce52-8282-4e9...|        Rae Roth|2007-11-27 09:31:08|2011-05-11 14:32:45|\n",
      "|Food Technologist|00c428b1-0931-450...|  Domenic Russel|2019-08-09 05:07:32|2000-12-08 20:34:54|\n",
      "|Food Technologist|00f6d71a-4e0c-4c3...|    Tom Villiger|2012-12-07 22:24:32|2017-02-01 16:37:06|\n",
      "|Food Technologist|00f71b80-a9bd-48a...|    Barney Tyler|2018-12-17 13:45:35|2013-01-04 16:05:04|\n",
      "|Food Technologist|0177f92b-ce0f-4d2...|     Peter Reese|2008-12-30 16:16:16|2003-01-26 19:34:52|\n",
      "|Food Technologist|01842933-ab9d-432...|   Sabrina Logan|2005-02-03 12:08:51|2017-07-15 03:25:17|\n",
      "|Food Technologist|01a15b6f-16df-457...|  George Jennson|2020-08-23 20:13:02|2015-08-11 04:51:38|\n",
      "|Food Technologist|01a324d3-3532-4a2...| Samantha Jenkin|2001-12-05 14:51:25|2012-08-11 15:24:52|\n",
      "|Food Technologist|01d77a04-4a5e-421...|   Luke Mcgregor|2000-06-07 02:15:02|2012-01-28 05:40:04|\n",
      "|Food Technologist|01d82f69-e3d6-48b...|  Rowan Marshall|2016-10-02 19:32:49|2008-04-24 00:00:01|\n",
      "|Food Technologist|029241f3-d918-472...|   Cedrick Ebden|2019-04-13 13:50:42|2012-04-19 20:20:17|\n",
      "|Food Technologist|02a3e175-19f3-4cd...|    Isabel Ellis|2012-05-28 20:45:47|2020-04-09 06:04:25|\n",
      "|Food Technologist|02c28adf-f173-4a0...|   Jasmine Nobbs|2012-12-02 20:27:58|2011-10-09 04:58:16|\n",
      "|Food Technologist|02d05f68-e9fa-49e...|    Shay Neville|2014-01-05 15:42:30|2010-08-14 07:00:26|\n",
      "|Food Technologist|034b3a97-5006-4a3...|     Hanna Evans|2001-09-05 01:05:40|2006-10-24 08:32:51|\n",
      "|Food Technologist|03af8018-336f-4e8...|   Mayleen Plumb|2014-12-01 11:06:33|2010-01-04 01:09:21|\n",
      "|Food Technologist|03b60bd5-39cc-424...|    Shelby Wills|2016-11-16 00:12:37|2002-04-11 10:42:53|\n",
      "|Food Technologist|03df5621-e105-474...|   Nathan Becker|2007-10-25 00:49:36|2018-09-04 06:19:17|\n",
      "|Food Technologist|04035f73-e610-439...|    Callie Flett|2007-02-22 17:31:06|2004-01-04 16:17:41|\n",
      "+-----------------+--------------------+----------------+-------------------+-------------------+\n",
      "only showing top 20 rows\n",
      "\n"
     ]
    }
   ],
   "source": [
    "load_and_get_table_df(\"test\", \"previous_employees_by_job_title\").show()"
   ]
  },
  {
   "cell_type": "code",
   "execution_count": 11,
   "id": "8f50b1bb-41dd-4f48-b701-524fb3c03160",
   "metadata": {},
   "outputs": [
    {
     "data": {
      "text/plain": [
       "DataFrame[]"
      ]
     },
     "execution_count": 11,
     "metadata": {},
     "output_type": "execute_result"
    }
   ],
   "source": [
    "# configure database catalog\n",
    "spark.conf.set(f\"spark.sql.catalog.cassandra\", \"com.datastax.spark.connector.datasource.CassandraCatalog\")\n",
    "spark.sql(\"use cassandra.test\")"
   ]
  },
  {
   "cell_type": "code",
   "execution_count": 12,
   "id": "87971e30-e533-462c-a27f-f18fd5ce25ec",
   "metadata": {},
   "outputs": [],
   "source": [
    "calcDF = spark.sql(\"select job_title, employee_id, employee_name, abs(datediff(last_day, first_day)) as days_worked from previous_employees_by_job_title\")"
   ]
  },
  {
   "cell_type": "code",
   "execution_count": 13,
   "id": "4dc754a8-e86c-43d1-9f11-18915122e596",
   "metadata": {},
   "outputs": [
    {
     "name": "stdout",
     "output_type": "stream",
     "text": [
      "+----------+--------------------+-----------------+-----------+\n",
      "| job_title|         employee_id|    employee_name|days_worked|\n",
      "+----------+--------------------+-----------------+-----------+\n",
      "|Accountant|0016165e-6d9a-4f9...|     Enoch Parker|        474|\n",
      "|Accountant|006b3b3e-fe15-4b1...|    Clint Michael|       4541|\n",
      "|Accountant|0076bb2e-fd33-4e0...|     Chuck Clarke|       1405|\n",
      "|Accountant|007beac9-e2ef-44c...|   Manuel Mcneill|       4204|\n",
      "|Accountant|00d043fb-984c-450...|       Hank Avery|        971|\n",
      "|Accountant|00d2ebd0-748f-484...|      Renee Riley|       1284|\n",
      "|Accountant|00dceecd-e0db-49c...|   Lindsay Ingham|       1348|\n",
      "|Accountant|00e69c60-f34d-44b...|    Javier Bolton|       1868|\n",
      "|Accountant|010a2d77-c6ac-4c5...|       Mark James|       2928|\n",
      "|Accountant|01361364-2de0-482...|  Crystal Ashwell|       2542|\n",
      "|Accountant|01638366-d495-445...|       Leroy Ross|       1570|\n",
      "|Accountant|01d087b7-1705-4d9...|Kimberly Matthews|       1583|\n",
      "|Accountant|01d2cece-1d8f-466...|  Rosalee Jackson|        706|\n",
      "|Accountant|01e3ebc8-f958-4b3...|    Georgia Moore|       6087|\n",
      "|Accountant|02057c6d-0fea-4e6...|   Candace Osmond|       7408|\n",
      "|Accountant|021334f3-257e-469...|        Luke Roth|        274|\n",
      "|Accountant|022d6af5-1f6d-4b2...|    Jayden Heaton|       6644|\n",
      "|Accountant|028c2e47-8c12-462...|   Alan Robertson|       1738|\n",
      "|Accountant|0311376f-3be6-473...|   Madelyn Garner|       5920|\n",
      "|Accountant|031ae11b-245f-4ad...|     Oliver Higgs|       5910|\n",
      "+----------+--------------------+-----------------+-----------+\n",
      "only showing top 20 rows\n",
      "\n"
     ]
    }
   ],
   "source": [
    "calcDF.show()"
   ]
  },
  {
   "cell_type": "code",
   "execution_count": 14,
   "id": "8de1bb70-10a3-41b5-9368-09b11394f83d",
   "metadata": {},
   "outputs": [],
   "source": [
    "calcDF.write\\\n",
    "    .format(\"org.apache.spark.sql.cassandra\")\\\n",
    "    .mode('append')\\\n",
    "    .options(table=\"days_worked_by_previous_employees_by_job_title\", keyspace='test')\\\n",
    "    .save()"
   ]
  },
  {
   "cell_type": "code",
   "execution_count": 15,
   "id": "8eb20238-46b1-4234-890c-86671c8a1201",
   "metadata": {},
   "outputs": [],
   "source": [
    "spark.stop()"
   ]
  },
  {
   "cell_type": "code",
   "execution_count": null,
   "id": "2f2f916f-30c8-450e-9791-f1991c7da93b",
   "metadata": {},
   "outputs": [],
   "source": []
  }
 ],
 "metadata": {
  "kernelspec": {
   "display_name": "Python 3 (ipykernel)",
   "language": "python",
   "name": "python3"
  },
  "language_info": {
   "codemirror_mode": {
    "name": "ipython",
    "version": 3
   },
   "file_extension": ".py",
   "mimetype": "text/x-python",
   "name": "python",
   "nbconvert_exporter": "python",
   "pygments_lexer": "ipython3",
   "version": "3.9.7"
  }
 },
 "nbformat": 4,
 "nbformat_minor": 5
}
